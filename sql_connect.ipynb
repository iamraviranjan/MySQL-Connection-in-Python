{
 "cells": [
  {
   "cell_type": "code",
   "execution_count": 1,
   "id": "f144ebed-8ccc-494f-9f7b-bae4d2ba66e2",
   "metadata": {},
   "outputs": [],
   "source": [
    "# pip install mysql-connector-python"
   ]
  },
  {
   "cell_type": "code",
   "execution_count": 2,
   "id": "95233f86-c623-4fdf-a3fa-fcdae4dfb68f",
   "metadata": {},
   "outputs": [
    {
     "name": "stdout",
     "output_type": "stream",
     "text": [
      "MySQL Database connection successful\n",
      "Connection established.\n"
     ]
    }
   ],
   "source": [
    "import mysql.connector\n",
    "from mysql.connector import Error\n",
    "\n",
    "def create_server_connection(host_name, user_name, user_password):\n",
    "    connection = None\n",
    "    try:\n",
    "        connection = mysql.connector.connect(\n",
    "            host=host_name,\n",
    "            user=user_name,\n",
    "            passwd=user_password\n",
    "        )\n",
    "        print(\"MySQL Database connection successful\")\n",
    "    except Error as err:\n",
    "        print(f\"Error: '{err}'\")\n",
    "    return connection\n",
    "\n",
    "# MySQL terminal password\n",
    "pw = \"Sahul@7543\"\n",
    "\n",
    "# Connect to MySQL server\n",
    "connection = create_server_connection(\"localhost\", \"root\", pw)\n",
    "\n",
    "# Check if the connection is established\n",
    "if connection is not None:\n",
    "    print(\"Connection established.\")\n",
    "else:\n",
    "    print(\"Connection failed.\")"
   ]
  },
  {
   "cell_type": "code",
   "execution_count": 3,
   "id": "20eb1a8a-6c5b-4236-93b7-7a08a99de301",
   "metadata": {},
   "outputs": [
    {
     "name": "stdout",
     "output_type": "stream",
     "text": [
      "Error: '1007 (HY000): Can't create database 'mysql_python'; database exists'\n"
     ]
    }
   ],
   "source": [
    "# create database mysql_python\n",
    "def create_database(connection, query):\n",
    "    cursor = connection.cursor()\n",
    "    try:\n",
    "        cursor.execute(query)\n",
    "        print(\"Database create Successfuly\")\n",
    "    except Error as err:\n",
    "        print(f\"Error: '{err}'\")\n",
    "create_database_query = \"create database mysql_python\"\n",
    "create_database(connection, create_database_query)"
   ]
  },
  {
   "cell_type": "code",
   "execution_count": 4,
   "id": "673dbcbd-7a9b-4483-bee0-b498bc0b3966",
   "metadata": {},
   "outputs": [],
   "source": [
    "# connect to database name\n",
    "def create_db_connection(host_name, user_name, user_password, db_name):\n",
    "    connection = None\n",
    "    try:\n",
    "        connection = mysql.connector.connect(\n",
    "            host=host_name,\n",
    "            user=user_name,\n",
    "            passwd=user_password,\n",
    "            database =db_name\n",
    "        )\n",
    "        print(\"MySQL Database connection successful\")\n",
    "    except Error as err:\n",
    "        print(f\"Error: '{err}'\")\n",
    "    return connection"
   ]
  },
  {
   "cell_type": "code",
   "execution_count": 5,
   "id": "eece59b7-11e6-46e8-9c71-1a7e82f4ebf7",
   "metadata": {},
   "outputs": [],
   "source": [
    "# Execute SQL Query\n",
    "\n",
    "def execute_query(connection,query):\n",
    "    cursor = connection.cursor()\n",
    "    try:\n",
    "        cursor.execute(query)\n",
    "        connection.commit()\n",
    "        print(\"Query was successful\")\n",
    "    except Error as err:\n",
    "        print(f\"Error: '{err}'\")\n",
    "        "
   ]
  },
  {
   "cell_type": "code",
   "execution_count": 6,
   "id": "84df2dd9-1884-46d6-a940-7dcb2e5977b8",
   "metadata": {},
   "outputs": [],
   "source": [
    "create_orders_table = \"\"\"\n",
    "CREATE TABLE orders (\n",
    "    order_id INT PRIMARY KEY,\n",
    "    customer_name VARCHAR(30) NOT NULL,\n",
    "    product_name VARCHAR(20) NOT NULL,\n",
    "    date_order DATE,\n",
    "    quantity INT,\n",
    "    unit_price DECIMAL(10, 2),\n",
    "    phone_number VARCHAR(20)\n",
    ");\n",
    "\"\"\""
   ]
  },
  {
   "cell_type": "code",
   "execution_count": 7,
   "id": "67517ea3-a6fd-4f08-ae5c-2f897bc1ffaa",
   "metadata": {},
   "outputs": [
    {
     "name": "stdout",
     "output_type": "stream",
     "text": [
      "MySQL Database connection successful\n",
      "Error: '1050 (42S01): Table 'orders' already exists'\n",
      "Orders table created successfully.\n"
     ]
    }
   ],
   "source": [
    "# Connect to the database \n",
    "pw = \"Sahul@7543\"\n",
    "db = \"mysql_python\"\n",
    "try:\n",
    "    connection = create_db_connection(\"localhost\", \"root\", pw, db)\n",
    "    execute_query(connection, create_orders_table)\n",
    "    print(\"Orders table created successfully.\")\n",
    "except mysql.connector.Error as err:\n",
    "    print(f\"Error: '{err}'\")\n",
    "finally:\n",
    "    if connection.is_connected():\n",
    "        connection.close()"
   ]
  },
  {
   "cell_type": "raw",
   "id": "d19b9a4a-bfe4-4491-bfa5-90eec177e0f4",
   "metadata": {},
   "source": [
    "drop_database_query = \"DROP DATABASE mysql_python;\"\n",
    "\n",
    "# Connect to the MySQL server\n",
    "connection = create_server_connection(\"localhost\", \"root\", pw)\n",
    "\n",
    "# Execute the DROP DATABASE query\n",
    "if connection:\n",
    "    execute_query(connection, drop_database_query)\n",
    "    connection.close()"
   ]
  },
  {
   "cell_type": "code",
   "execution_count": 8,
   "id": "34b7a1d5-b787-4af3-90df-28e9faa77451",
   "metadata": {},
   "outputs": [
    {
     "name": "stdout",
     "output_type": "stream",
     "text": [
      "MySQL Database connection successful\n",
      "Error: '1062 (23000): Duplicate entry '101' for key 'orders.PRIMARY''\n"
     ]
    }
   ],
   "source": [
    "data_orders = \"\"\"\n",
    "INSERT INTO orders VALUES\n",
    "(101, 'Steve', 'Laptop', '2018-06-12', 2, 800, '6293730882'),\n",
    "(102, 'Jos', 'Books', '2019-02-10', 10, 12, '8367489124'),\n",
    "(103, 'Stacy', 'Trousers', '2019-12-25', 5, 50, '8976123645'), \n",
    "(104, 'Nancy', 'T-Shirts', '2018-07-14', 7, 30, '7368145099'),\n",
    "(105, 'Maria', 'Headphones', '2019-05-30', 6, 48, '8865316698'),\n",
    "(106, 'Danny', 'Smart TV', '2018-08-20', 10, 300, '7720130449');\n",
    "\"\"\"\n",
    "connection = create_db_connection(\"localhost\", \"root\", pw, db)\n",
    "execute_query(connection, data_orders)"
   ]
  },
  {
   "cell_type": "code",
   "execution_count": 9,
   "id": "6fdc79f8-05ed-449c-a1a0-36f621ea3b0b",
   "metadata": {},
   "outputs": [],
   "source": [
    "def read_query(connection, query):\n",
    "    cursor = connection.cursor()\n",
    "    result = None\n",
    "    try:\n",
    "        cursor.execute(query)\n",
    "        result = cursor.fetchall()  # Fetch all results from the executed query\n",
    "        return result\n",
    "    except mysql.connector.Error as err:\n",
    "        print(f\"Error: '{err}'\")\n",
    "    finally:\n",
    "        cursor.close()  # Ensure the cursor is closed after use"
   ]
  },
  {
   "cell_type": "code",
   "execution_count": 10,
   "id": "fea8de50-abc0-4a64-a407-7836a4cc58f7",
   "metadata": {},
   "outputs": [
    {
     "name": "stdout",
     "output_type": "stream",
     "text": [
      "MySQL Database connection successful\n",
      "(101, 'Steve', 'Laptop', datetime.date(2018, 6, 12), 2, Decimal('800.00'), '6293730882')\n",
      "(102, 'Jos', 'Books', datetime.date(2019, 2, 10), 10, Decimal('12.00'), '8367489124')\n",
      "(103, 'Stacy', 'Trousers', datetime.date(2019, 12, 25), 5, Decimal('45.00'), '8976123645')\n",
      "(104, 'Nancy', 'T-Shirts', datetime.date(2018, 7, 14), 7, Decimal('30.00'), '7368145099')\n",
      "(105, 'Maria', 'Headphones', datetime.date(2019, 5, 30), 6, Decimal('48.00'), '8865316698')\n",
      "(106, 'Danny', 'Smart TV', datetime.date(2018, 8, 20), 10, Decimal('300.00'), '7720130449')\n"
     ]
    }
   ],
   "source": [
    "# Using the select stmt\n",
    "q1 = \"\"\"\n",
    "select * from orders;  \"\"\"\n",
    "connection = create_db_connection(\"localhost\", \"root\", pw, db) \n",
    "results = read_query(connection, q1)\n",
    "for result in results:\n",
    "    print(result)"
   ]
  },
  {
   "cell_type": "code",
   "execution_count": 11,
   "id": "e779f143-ffeb-49f4-a919-3c5297a84a05",
   "metadata": {},
   "outputs": [
    {
     "name": "stdout",
     "output_type": "stream",
     "text": [
      "MySQL Database connection successful\n",
      "('Steve', '6293730882')\n",
      "('Jos', '8367489124')\n",
      "('Stacy', '8976123645')\n",
      "('Nancy', '7368145099')\n",
      "('Maria', '8865316698')\n",
      "('Danny', '7720130449')\n"
     ]
    }
   ],
   "source": [
    "q2 = \"\"\"\n",
    "SELECT customer_name, phone_number FROM orders; \n",
    "\"\"\"\n",
    "connection = create_db_connection(\"localhost\", \"root\", pw, db) \n",
    "results = read_query(connection, q2)\n",
    "for result in results:\n",
    "    print(result)"
   ]
  },
  {
   "cell_type": "code",
   "execution_count": 12,
   "id": "99308c05-f66b-4ff9-a0a6-878e787043d8",
   "metadata": {},
   "outputs": [
    {
     "name": "stdout",
     "output_type": "stream",
     "text": [
      "MySQL Database connection successful\n",
      "(2018,)\n",
      "(2019,)\n",
      "(2019,)\n",
      "(2018,)\n",
      "(2019,)\n",
      "(2018,)\n"
     ]
    }
   ],
   "source": [
    "q3 = \"\"\"\n",
    "select year(date_order) from orders;\n",
    "\"\"\"\n",
    "connection = create_db_connection(\"localhost\", \"root\", pw, db) \n",
    "results = read_query(connection, q3)\n",
    "for result in results:\n",
    "    print(result)"
   ]
  },
  {
   "cell_type": "code",
   "execution_count": 13,
   "id": "4cfd5654-4cb1-4569-ad0c-cdc5d0875cdc",
   "metadata": {},
   "outputs": [
    {
     "name": "stdout",
     "output_type": "stream",
     "text": [
      "MySQL Database connection successful\n",
      "(2018,)\n",
      "(2019,)\n"
     ]
    }
   ],
   "source": [
    "q4 = \"\"\"\n",
    "select distinct year(date_order) from orders;\n",
    "\"\"\"\n",
    "connection = create_db_connection(\"localhost\", \"root\", pw, db) \n",
    "results = read_query(connection, q4)\n",
    "for result in results:\n",
    "    print(result)"
   ]
  },
  {
   "cell_type": "code",
   "execution_count": 14,
   "id": "e9e3f426-f0ed-4bbb-b9b1-3feffd2fe7ee",
   "metadata": {},
   "outputs": [
    {
     "name": "stdout",
     "output_type": "stream",
     "text": [
      "MySQL Database connection successful\n",
      "(101, 'Steve', 'Laptop', datetime.date(2018, 6, 12), 2, Decimal('800.00'), '6293730882')\n",
      "(104, 'Nancy', 'T-Shirts', datetime.date(2018, 7, 14), 7, Decimal('30.00'), '7368145099')\n",
      "(106, 'Danny', 'Smart TV', datetime.date(2018, 8, 20), 10, Decimal('300.00'), '7720130449')\n"
     ]
    }
   ],
   "source": [
    "q5 = \"\"\"\n",
    "select * from orders where date_order < '2018-12-31'\n",
    "\"\"\"\n",
    "connection = create_db_connection(\"localhost\", \"root\", pw, db) \n",
    "results = read_query(connection, q5)\n",
    "for result in results:\n",
    "    print(result)"
   ]
  },
  {
   "cell_type": "code",
   "execution_count": 15,
   "id": "2969ac95-da7a-401e-b221-4f3144e5c049",
   "metadata": {},
   "outputs": [
    {
     "name": "stdout",
     "output_type": "stream",
     "text": [
      "MySQL Database connection successful\n",
      "(102, 'Jos', 'Books', datetime.date(2019, 2, 10), 10, Decimal('12.00'), '8367489124')\n",
      "(103, 'Stacy', 'Trousers', datetime.date(2019, 12, 25), 5, Decimal('45.00'), '8976123645')\n",
      "(105, 'Maria', 'Headphones', datetime.date(2019, 5, 30), 6, Decimal('48.00'), '8865316698')\n"
     ]
    }
   ],
   "source": [
    "q6 = \"\"\"\n",
    "select * from orders where date_order > '2018-12-31'\n",
    "\"\"\"\n",
    "connection = create_db_connection(\"localhost\", \"root\", pw, db) \n",
    "results = read_query(connection, q6)\n",
    "for result in results:\n",
    "    print(result)"
   ]
  },
  {
   "cell_type": "code",
   "execution_count": 16,
   "id": "03602e7c-4485-4abe-a559-80def4d4696b",
   "metadata": {},
   "outputs": [
    {
     "name": "stdout",
     "output_type": "stream",
     "text": [
      "MySQL Database connection successful\n",
      "(102, 'Jos', 'Books', datetime.date(2019, 2, 10), 10, Decimal('12.00'), '8367489124')\n",
      "(104, 'Nancy', 'T-Shirts', datetime.date(2018, 7, 14), 7, Decimal('30.00'), '7368145099')\n",
      "(103, 'Stacy', 'Trousers', datetime.date(2019, 12, 25), 5, Decimal('45.00'), '8976123645')\n",
      "(105, 'Maria', 'Headphones', datetime.date(2019, 5, 30), 6, Decimal('48.00'), '8865316698')\n",
      "(106, 'Danny', 'Smart TV', datetime.date(2018, 8, 20), 10, Decimal('300.00'), '7720130449')\n",
      "(101, 'Steve', 'Laptop', datetime.date(2018, 6, 12), 2, Decimal('800.00'), '6293730882')\n"
     ]
    }
   ],
   "source": [
    "q7 = \"\"\"\n",
    "select * from orders order by unit_price\n",
    "\"\"\"\n",
    "connection = create_db_connection(\"localhost\", \"root\", pw, db) \n",
    "results = read_query(connection, q7)\n",
    "for result in results:\n",
    "    print(result)"
   ]
  },
  {
   "cell_type": "code",
   "execution_count": 17,
   "id": "743eb340-6cf2-4580-a739-e9420fc896fa",
   "metadata": {},
   "outputs": [
    {
     "name": "stdout",
     "output_type": "stream",
     "text": [
      "MySQL Database connection successful\n",
      "(101, 'Steve', 'Laptop', datetime.date(2018, 6, 12), 2, Decimal('800.00'), '6293730882')\n",
      "(106, 'Danny', 'Smart TV', datetime.date(2018, 8, 20), 10, Decimal('300.00'), '7720130449')\n",
      "(105, 'Maria', 'Headphones', datetime.date(2019, 5, 30), 6, Decimal('48.00'), '8865316698')\n",
      "(103, 'Stacy', 'Trousers', datetime.date(2019, 12, 25), 5, Decimal('45.00'), '8976123645')\n",
      "(104, 'Nancy', 'T-Shirts', datetime.date(2018, 7, 14), 7, Decimal('30.00'), '7368145099')\n",
      "(102, 'Jos', 'Books', datetime.date(2019, 2, 10), 10, Decimal('12.00'), '8367489124')\n"
     ]
    }
   ],
   "source": [
    "q8= \"\"\"\n",
    "select * from orders order by unit_price desc\n",
    "\"\"\"\n",
    "connection = create_db_connection(\"localhost\", \"root\", pw, db) \n",
    "results = read_query(connection, q8)\n",
    "for result in results:\n",
    "    print(result)"
   ]
  },
  {
   "cell_type": "code",
   "execution_count": 18,
   "id": "22edca94-0fd2-41c5-8f86-a6c52b13b0e4",
   "metadata": {},
   "outputs": [
    {
     "name": "stdout",
     "output_type": "stream",
     "text": [
      "   order_Id customer_name product_name date_ordered  quantity unit_price  \\\n",
      "0       101         Steve       Laptop   2018-06-12         2     800.00   \n",
      "1       106         Danny     Smart TV   2018-08-20        10     300.00   \n",
      "2       105         Maria   Headphones   2019-05-30         6      48.00   \n",
      "3       103         Stacy     Trousers   2019-12-25         5      45.00   \n",
      "4       104         Nancy     T-Shirts   2018-07-14         7      30.00   \n",
      "5       102           Jos        Books   2019-02-10        10      12.00   \n",
      "\n",
      "  phone_number  \n",
      "0   6293730882  \n",
      "1   7720130449  \n",
      "2   8865316698  \n",
      "3   8976123645  \n",
      "4   7368145099  \n",
      "5   8367489124  \n"
     ]
    }
   ],
   "source": [
    "import pandas as pd\n",
    "from_db = []\n",
    "for result in results:\n",
    "    result = list(result)  # Convert each result tuple to a list\n",
    "    from_db.append(result)  # Append the list to from_db\n",
    "    \n",
    "# Define the column names\n",
    "columns = [\"order_Id\", \"customer_name\", \"product_name\", \"date_ordered\", \"quantity\", \"unit_price\", \"phone_number\"]\n",
    "\n",
    "# Create a DataFrame from the list of results\n",
    "df = pd.DataFrame(from_db, columns=columns)\n",
    "\n",
    "# Display the DataFrame\n",
    "print(df)  # Use print() or display() depending on your environment"
   ]
  },
  {
   "cell_type": "code",
   "execution_count": 19,
   "id": "4896467f-8841-439f-951e-a559e29089c2",
   "metadata": {},
   "outputs": [
    {
     "name": "stdout",
     "output_type": "stream",
     "text": [
      "MySQL Database connection successful\n",
      "Query was successful\n"
     ]
    }
   ],
   "source": [
    "update_query = \"\"\"\n",
    "UPDATE orders\n",
    "SET unit_price = 45\n",
    "WHERE order_id = 103;\n",
    "\"\"\"\n",
    "connection = create_db_connection(\"localhost\", \"root\", pw, db)\n",
    "execute_query(connection, update_query) "
   ]
  },
  {
   "cell_type": "code",
   "execution_count": 20,
   "id": "46990553-e513-4c28-b2e3-87abe6dd743d",
   "metadata": {},
   "outputs": [
    {
     "name": "stdout",
     "output_type": "stream",
     "text": [
      "MySQL Database connection successful\n",
      "(103, 'Stacy', 'Trousers', datetime.date(2019, 12, 25), 5, Decimal('45.00'), '8976123645')\n"
     ]
    }
   ],
   "source": [
    "q9= \"\"\"\n",
    "select * from orders where order_id = 103\n",
    "\"\"\"\n",
    "connection = create_db_connection(\"localhost\", \"root\", pw, db) \n",
    "results = read_query(connection, q9)\n",
    "for result in results:\n",
    "    print(result)"
   ]
  },
  {
   "cell_type": "code",
   "execution_count": 21,
   "id": "f4e24306-ed84-41c3-8577-6addba09ea61",
   "metadata": {},
   "outputs": [
    {
     "name": "stdout",
     "output_type": "stream",
     "text": [
      "MySQL Database connection successful\n",
      "Query was successful\n"
     ]
    }
   ],
   "source": [
    "delete_order = \"\"\"\n",
    "delete from orders\n",
    "WHERE order_id = 105;\n",
    "\"\"\"\n",
    "connection = create_db_connection(\"localhost\", \"root\", pw, db)\n",
    "execute_query(connection, update_query) "
   ]
  },
  {
   "cell_type": "code",
   "execution_count": 22,
   "id": "4151753e-8add-4cb3-b5a0-06f7f9ad728d",
   "metadata": {},
   "outputs": [
    {
     "name": "stdout",
     "output_type": "stream",
     "text": [
      "MySQL Database connection successful\n",
      "(101, 'Steve', 'Laptop', datetime.date(2018, 6, 12), 2, Decimal('800.00'), '6293730882')\n",
      "(102, 'Jos', 'Books', datetime.date(2019, 2, 10), 10, Decimal('12.00'), '8367489124')\n",
      "(103, 'Stacy', 'Trousers', datetime.date(2019, 12, 25), 5, Decimal('45.00'), '8976123645')\n",
      "(104, 'Nancy', 'T-Shirts', datetime.date(2018, 7, 14), 7, Decimal('30.00'), '7368145099')\n",
      "(105, 'Maria', 'Headphones', datetime.date(2019, 5, 30), 6, Decimal('48.00'), '8865316698')\n",
      "(106, 'Danny', 'Smart TV', datetime.date(2018, 8, 20), 10, Decimal('300.00'), '7720130449')\n"
     ]
    }
   ],
   "source": [
    "q10= \"\"\"\n",
    "select * from orders \n",
    "\"\"\"\n",
    "connection = create_db_connection(\"localhost\", \"root\", pw, db) \n",
    "results = read_query(connection, q10)\n",
    "for result in results:\n",
    "    print(result)"
   ]
  },
  {
   "cell_type": "code",
   "execution_count": null,
   "id": "f4033d5e-6834-495a-b907-dec0b9669e8a",
   "metadata": {},
   "outputs": [],
   "source": []
  }
 ],
 "metadata": {
  "kernelspec": {
   "display_name": "Python 3 (ipykernel)",
   "language": "python",
   "name": "python3"
  },
  "language_info": {
   "codemirror_mode": {
    "name": "ipython",
    "version": 3
   },
   "file_extension": ".py",
   "mimetype": "text/x-python",
   "name": "python",
   "nbconvert_exporter": "python",
   "pygments_lexer": "ipython3",
   "version": "3.12.7"
  }
 },
 "nbformat": 4,
 "nbformat_minor": 5
}
